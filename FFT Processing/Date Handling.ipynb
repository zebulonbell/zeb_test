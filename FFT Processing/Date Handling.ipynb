{
 "cells": [
  {
   "cell_type": "code",
   "execution_count": 1,
   "metadata": {},
   "outputs": [],
   "source": [
    "import pandas as pd"
   ]
  },
  {
   "cell_type": "code",
   "execution_count": 3,
   "metadata": {},
   "outputs": [],
   "source": [
    "vib_df = pd.read_csv(r\"C:\\Users\\Dinesh.Makked\\Downloads\\248_UPS-HBR-HBR.VEX657202_02.PZ.X.csv\")"
   ]
  },
  {
   "cell_type": "code",
   "execution_count": 5,
   "metadata": {},
   "outputs": [
    {
     "data": {
      "text/plain": [
       "Index(['Unnamed: 0', 'UPS-HBR-HBR.VEX657202_02.PZ.X'], dtype='object')"
      ]
     },
     "execution_count": 5,
     "metadata": {},
     "output_type": "execute_result"
    }
   ],
   "source": [
    "vib_df.columns"
   ]
  },
  {
   "cell_type": "code",
   "execution_count": 6,
   "metadata": {},
   "outputs": [],
   "source": [
    "vib_df = vib_df.rename(columns = { \"Unnamed: 0\" : \"Reading Date\", 'UPS-HBR-HBR.VEX657202_02.PZ.X' : \"Reading\"})"
   ]
  },
  {
   "cell_type": "code",
   "execution_count": 7,
   "metadata": {},
   "outputs": [
    {
     "data": {
      "text/plain": [
       "Index(['Reading Date', 'Reading'], dtype='object')"
      ]
     },
     "execution_count": 7,
     "metadata": {},
     "output_type": "execute_result"
    }
   ],
   "source": [
    "vib_df.columns"
   ]
  },
  {
   "cell_type": "code",
   "execution_count": 9,
   "metadata": {},
   "outputs": [
    {
     "name": "stdout",
     "output_type": "stream",
     "text": [
      "<class 'pandas.core.frame.DataFrame'>\n",
      "RangeIndex: 2909930 entries, 0 to 2909929\n",
      "Data columns (total 2 columns):\n",
      " #   Column        Dtype  \n",
      "---  ------        -----  \n",
      " 0   Reading Date  object \n",
      " 1   Reading       float64\n",
      "dtypes: float64(1), object(1)\n",
      "memory usage: 44.4+ MB\n"
     ]
    }
   ],
   "source": [
    "vib_df.info()"
   ]
  },
  {
   "cell_type": "code",
   "execution_count": 11,
   "metadata": {},
   "outputs": [],
   "source": [
    "vib_df['Reading Date'] =  pd.to_datetime(vib_df['Reading Date'], format= \"%Y-%m-%d %H:%M:%S\")"
   ]
  },
  {
   "cell_type": "code",
   "execution_count": 12,
   "metadata": {},
   "outputs": [
    {
     "name": "stdout",
     "output_type": "stream",
     "text": [
      "<class 'pandas.core.frame.DataFrame'>\n",
      "RangeIndex: 2909930 entries, 0 to 2909929\n",
      "Data columns (total 2 columns):\n",
      " #   Column        Dtype         \n",
      "---  ------        -----         \n",
      " 0   Reading Date  datetime64[ns]\n",
      " 1   Reading       float64       \n",
      "dtypes: datetime64[ns](1), float64(1)\n",
      "memory usage: 44.4 MB\n"
     ]
    }
   ],
   "source": [
    "vib_df.info()"
   ]
  },
  {
   "cell_type": "code",
   "execution_count": 13,
   "metadata": {},
   "outputs": [
    {
     "data": {
      "text/html": [
       "<div>\n",
       "<style scoped>\n",
       "    .dataframe tbody tr th:only-of-type {\n",
       "        vertical-align: middle;\n",
       "    }\n",
       "\n",
       "    .dataframe tbody tr th {\n",
       "        vertical-align: top;\n",
       "    }\n",
       "\n",
       "    .dataframe thead th {\n",
       "        text-align: right;\n",
       "    }\n",
       "</style>\n",
       "<table border=\"1\" class=\"dataframe\">\n",
       "  <thead>\n",
       "    <tr style=\"text-align: right;\">\n",
       "      <th></th>\n",
       "      <th>Reading Date</th>\n",
       "      <th>Reading</th>\n",
       "    </tr>\n",
       "  </thead>\n",
       "  <tbody>\n",
       "    <tr>\n",
       "      <th>0</th>\n",
       "      <td>2021-07-30 16:43:39.805</td>\n",
       "      <td>12.982574</td>\n",
       "    </tr>\n",
       "    <tr>\n",
       "      <th>1</th>\n",
       "      <td>2021-07-30 16:43:45.809</td>\n",
       "      <td>12.787255</td>\n",
       "    </tr>\n",
       "    <tr>\n",
       "      <th>2</th>\n",
       "      <td>2021-07-30 16:47:45.828</td>\n",
       "      <td>12.884914</td>\n",
       "    </tr>\n",
       "    <tr>\n",
       "      <th>3</th>\n",
       "      <td>2021-07-30 16:47:49.808</td>\n",
       "      <td>12.591937</td>\n",
       "    </tr>\n",
       "    <tr>\n",
       "      <th>4</th>\n",
       "      <td>2021-07-30 16:47:59.823</td>\n",
       "      <td>12.640766</td>\n",
       "    </tr>\n",
       "    <tr>\n",
       "      <th>...</th>\n",
       "      <td>...</td>\n",
       "      <td>...</td>\n",
       "    </tr>\n",
       "    <tr>\n",
       "      <th>2909925</th>\n",
       "      <td>2022-06-27 19:29:37.988</td>\n",
       "      <td>11.914426</td>\n",
       "    </tr>\n",
       "    <tr>\n",
       "      <th>2909926</th>\n",
       "      <td>2022-06-27 19:29:43.986</td>\n",
       "      <td>11.963256</td>\n",
       "    </tr>\n",
       "    <tr>\n",
       "      <th>2909927</th>\n",
       "      <td>2022-06-27 19:29:47.986</td>\n",
       "      <td>12.060915</td>\n",
       "    </tr>\n",
       "    <tr>\n",
       "      <th>2909928</th>\n",
       "      <td>2022-06-27 19:29:53.988</td>\n",
       "      <td>11.670278</td>\n",
       "    </tr>\n",
       "    <tr>\n",
       "      <th>2909929</th>\n",
       "      <td>2022-06-27 19:30:03.984</td>\n",
       "      <td>12.060915</td>\n",
       "    </tr>\n",
       "  </tbody>\n",
       "</table>\n",
       "<p>2909930 rows × 2 columns</p>\n",
       "</div>"
      ],
      "text/plain": [
       "                   Reading Date    Reading\n",
       "0       2021-07-30 16:43:39.805  12.982574\n",
       "1       2021-07-30 16:43:45.809  12.787255\n",
       "2       2021-07-30 16:47:45.828  12.884914\n",
       "3       2021-07-30 16:47:49.808  12.591937\n",
       "4       2021-07-30 16:47:59.823  12.640766\n",
       "...                         ...        ...\n",
       "2909925 2022-06-27 19:29:37.988  11.914426\n",
       "2909926 2022-06-27 19:29:43.986  11.963256\n",
       "2909927 2022-06-27 19:29:47.986  12.060915\n",
       "2909928 2022-06-27 19:29:53.988  11.670278\n",
       "2909929 2022-06-27 19:30:03.984  12.060915\n",
       "\n",
       "[2909930 rows x 2 columns]"
      ]
     },
     "execution_count": 13,
     "metadata": {},
     "output_type": "execute_result"
    }
   ],
   "source": [
    "vib_df"
   ]
  },
  {
   "cell_type": "code",
   "execution_count": 17,
   "metadata": {},
   "outputs": [
    {
     "name": "stdout",
     "output_type": "stream",
     "text": [
      "2022-01-31 00:00:00 2022-01-31 12:00:00\n"
     ]
    }
   ],
   "source": [
    "from_date = pd.to_datetime(\"2022-01-31 00:00:00\", format= \"%Y-%m-%d %H:%M:%S\")\n",
    "to_date = pd.to_datetime(\"2022-01-31 12:00:00\", format = \"%Y-%m-%d %H:%M:%S\")\n",
    "print(from_date, to_date)"
   ]
  },
  {
   "cell_type": "code",
   "execution_count": 26,
   "metadata": {},
   "outputs": [
    {
     "data": {
      "text/html": [
       "<div>\n",
       "<style scoped>\n",
       "    .dataframe tbody tr th:only-of-type {\n",
       "        vertical-align: middle;\n",
       "    }\n",
       "\n",
       "    .dataframe tbody tr th {\n",
       "        vertical-align: top;\n",
       "    }\n",
       "\n",
       "    .dataframe thead th {\n",
       "        text-align: right;\n",
       "    }\n",
       "</style>\n",
       "<table border=\"1\" class=\"dataframe\">\n",
       "  <thead>\n",
       "    <tr style=\"text-align: right;\">\n",
       "      <th></th>\n",
       "      <th>Reading Date</th>\n",
       "      <th>Reading</th>\n",
       "    </tr>\n",
       "  </thead>\n",
       "  <tbody>\n",
       "    <tr>\n",
       "      <th>861982</th>\n",
       "      <td>2022-01-31 00:00:02.872</td>\n",
       "      <td>19.812616</td>\n",
       "    </tr>\n",
       "    <tr>\n",
       "      <th>861983</th>\n",
       "      <td>2022-01-31 00:00:06.872</td>\n",
       "      <td>20.203253</td>\n",
       "    </tr>\n",
       "    <tr>\n",
       "      <th>861984</th>\n",
       "      <td>2022-01-31 00:00:12.873</td>\n",
       "      <td>19.568468</td>\n",
       "    </tr>\n",
       "    <tr>\n",
       "      <th>861985</th>\n",
       "      <td>2022-01-31 00:00:16.892</td>\n",
       "      <td>20.105595</td>\n",
       "    </tr>\n",
       "    <tr>\n",
       "      <th>861986</th>\n",
       "      <td>2022-01-31 00:00:22.874</td>\n",
       "      <td>19.617298</td>\n",
       "    </tr>\n",
       "    <tr>\n",
       "      <th>...</th>\n",
       "      <td>...</td>\n",
       "      <td>...</td>\n",
       "    </tr>\n",
       "    <tr>\n",
       "      <th>867927</th>\n",
       "      <td>2022-01-31 11:59:14.370</td>\n",
       "      <td>0.677511</td>\n",
       "    </tr>\n",
       "    <tr>\n",
       "      <th>867928</th>\n",
       "      <td>2022-01-31 11:59:24.379</td>\n",
       "      <td>0.628681</td>\n",
       "    </tr>\n",
       "    <tr>\n",
       "      <th>867929</th>\n",
       "      <td>2022-01-31 11:59:28.381</td>\n",
       "      <td>0.677511</td>\n",
       "    </tr>\n",
       "    <tr>\n",
       "      <th>867930</th>\n",
       "      <td>2022-01-31 11:59:34.377</td>\n",
       "      <td>0.628681</td>\n",
       "    </tr>\n",
       "    <tr>\n",
       "      <th>867931</th>\n",
       "      <td>2022-01-31 11:59:58.371</td>\n",
       "      <td>0.677511</td>\n",
       "    </tr>\n",
       "  </tbody>\n",
       "</table>\n",
       "<p>5950 rows × 2 columns</p>\n",
       "</div>"
      ],
      "text/plain": [
       "                  Reading Date    Reading\n",
       "861982 2022-01-31 00:00:02.872  19.812616\n",
       "861983 2022-01-31 00:00:06.872  20.203253\n",
       "861984 2022-01-31 00:00:12.873  19.568468\n",
       "861985 2022-01-31 00:00:16.892  20.105595\n",
       "861986 2022-01-31 00:00:22.874  19.617298\n",
       "...                        ...        ...\n",
       "867927 2022-01-31 11:59:14.370   0.677511\n",
       "867928 2022-01-31 11:59:24.379   0.628681\n",
       "867929 2022-01-31 11:59:28.381   0.677511\n",
       "867930 2022-01-31 11:59:34.377   0.628681\n",
       "867931 2022-01-31 11:59:58.371   0.677511\n",
       "\n",
       "[5950 rows x 2 columns]"
      ]
     },
     "execution_count": 26,
     "metadata": {},
     "output_type": "execute_result"
    }
   ],
   "source": [
    "my_filter = ((vib_df[\"Reading Date\"] >= from_date) & (vib_df[\"Reading Date\"] <= to_date))\n",
    "new_df = vib_df[my_filter]\n",
    "new_df"
   ]
  },
  {
   "cell_type": "code",
   "execution_count": null,
   "metadata": {},
   "outputs": [],
   "source": []
  }
 ],
 "metadata": {
  "kernelspec": {
   "display_name": "Python 3 (ipykernel)",
   "language": "python",
   "name": "python3"
  },
  "language_info": {
   "codemirror_mode": {
    "name": "ipython",
    "version": 3
   },
   "file_extension": ".py",
   "mimetype": "text/x-python",
   "name": "python",
   "nbconvert_exporter": "python",
   "pygments_lexer": "ipython3",
   "version": "3.9.12"
  }
 },
 "nbformat": 4,
 "nbformat_minor": 4
}
